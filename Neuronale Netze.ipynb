{
 "cells": [
  {
   "cell_type": "markdown",
   "id": "a7a4f23d",
   "metadata": {},
   "source": [
    "# House-Price Prediction with Tensorflow Keras Neural Networks\n",
    "\n",
    "This example demonstrates how to create a neural network model with Tensorflow and Keras to predict house prices based on the following features:\n",
    "\n",
    "1. Year of sale of the house\n",
    "2. The age of the house at the time of sale\n",
    "3. Distance from city center\n",
    "4. Number of stores in the locality\n",
    "5. The latitude\n",
    "6. The longitude\n",
    "\n",
    "It explains why the normalization process of the data is important and when to choose which activation function."
   ]
  },
  {
   "cell_type": "markdown",
   "id": "34ff20f5",
   "metadata": {},
   "source": [
    "Import the necessary packages/modules."
   ]
  },
  {
   "cell_type": "code",
   "execution_count": 193,
   "id": "ba43071a",
   "metadata": {},
   "outputs": [],
   "source": [
    "import pandas as pd\n",
    "import matplotlib.pyplot as plt \n",
    "import tensorflow as tf\n",
    "from tensorflow.keras import backend as K\n",
    "from sklearn.model_selection import train_test_split\n",
    "from tensorflow.keras.models import Sequential\n",
    "from tensorflow.keras.layers import Dense, Dropout\n",
    "from tensorflow.keras.callbacks import EarlyStopping, LambdaCallback"
   ]
  },
  {
   "cell_type": "markdown",
   "id": "18fe062e",
   "metadata": {},
   "source": [
    "Check that the Apple M1 GPU is available (just a sanity check) - expected output is \"Num GPUs Available:  1\"."
   ]
  },
  {
   "cell_type": "code",
   "execution_count": 194,
   "id": "bf7fbe5d",
   "metadata": {},
   "outputs": [
    {
     "name": "stdout",
     "output_type": "stream",
     "text": [
      "Num GPUs Available:  1\n"
     ]
    }
   ],
   "source": [
    "print(\"Num GPUs Available: \", len(tf.config.experimental.list_physical_devices('GPU')))"
   ]
  },
  {
   "cell_type": "markdown",
   "id": "6010a13b",
   "metadata": {},
   "source": [
    "Import the input data from the CSV file."
   ]
  },
  {
   "cell_type": "code",
   "execution_count": 195,
   "id": "97f9089d",
   "metadata": {},
   "outputs": [
    {
     "data": {
      "text/html": [
       "<div>\n",
       "<style scoped>\n",
       "    .dataframe tbody tr th:only-of-type {\n",
       "        vertical-align: middle;\n",
       "    }\n",
       "\n",
       "    .dataframe tbody tr th {\n",
       "        vertical-align: top;\n",
       "    }\n",
       "\n",
       "    .dataframe thead th {\n",
       "        text-align: right;\n",
       "    }\n",
       "</style>\n",
       "<table border=\"1\" class=\"dataframe\">\n",
       "  <thead>\n",
       "    <tr style=\"text-align: right;\">\n",
       "      <th></th>\n",
       "      <th>serial</th>\n",
       "      <th>date</th>\n",
       "      <th>age</th>\n",
       "      <th>distance</th>\n",
       "      <th>stores</th>\n",
       "      <th>latitude</th>\n",
       "      <th>longitude</th>\n",
       "      <th>price</th>\n",
       "    </tr>\n",
       "  </thead>\n",
       "  <tbody>\n",
       "    <tr>\n",
       "      <th>0</th>\n",
       "      <td>0</td>\n",
       "      <td>2009</td>\n",
       "      <td>21</td>\n",
       "      <td>9</td>\n",
       "      <td>6</td>\n",
       "      <td>84</td>\n",
       "      <td>121</td>\n",
       "      <td>14264</td>\n",
       "    </tr>\n",
       "    <tr>\n",
       "      <th>1</th>\n",
       "      <td>1</td>\n",
       "      <td>2007</td>\n",
       "      <td>4</td>\n",
       "      <td>2</td>\n",
       "      <td>3</td>\n",
       "      <td>86</td>\n",
       "      <td>121</td>\n",
       "      <td>12032</td>\n",
       "    </tr>\n",
       "    <tr>\n",
       "      <th>2</th>\n",
       "      <td>2</td>\n",
       "      <td>2016</td>\n",
       "      <td>18</td>\n",
       "      <td>3</td>\n",
       "      <td>7</td>\n",
       "      <td>90</td>\n",
       "      <td>120</td>\n",
       "      <td>13560</td>\n",
       "    </tr>\n",
       "    <tr>\n",
       "      <th>3</th>\n",
       "      <td>3</td>\n",
       "      <td>2002</td>\n",
       "      <td>13</td>\n",
       "      <td>2</td>\n",
       "      <td>2</td>\n",
       "      <td>80</td>\n",
       "      <td>128</td>\n",
       "      <td>12029</td>\n",
       "    </tr>\n",
       "    <tr>\n",
       "      <th>4</th>\n",
       "      <td>4</td>\n",
       "      <td>2014</td>\n",
       "      <td>25</td>\n",
       "      <td>5</td>\n",
       "      <td>8</td>\n",
       "      <td>81</td>\n",
       "      <td>122</td>\n",
       "      <td>14157</td>\n",
       "    </tr>\n",
       "  </tbody>\n",
       "</table>\n",
       "</div>"
      ],
      "text/plain": [
       "   serial  date  age  distance  stores  latitude  longitude  price\n",
       "0       0  2009   21         9       6        84        121  14264\n",
       "1       1  2007    4         2       3        86        121  12032\n",
       "2       2  2016   18         3       7        90        120  13560\n",
       "3       3  2002   13         2       2        80        128  12029\n",
       "4       4  2014   25         5       8        81        122  14157"
      ]
     },
     "execution_count": 195,
     "metadata": {},
     "output_type": "execute_result"
    }
   ],
   "source": [
    "column_names = ['serial','date','age','distance','stores','latitude','longitude','price']\n",
    "df = pd.read_csv('data.csv', names = column_names)\n",
    "df.head()"
   ]
  },
  {
   "cell_type": "markdown",
   "id": "7c05c672",
   "metadata": {},
   "source": [
    "Remove the column \"serial\" as it is not a valid feature (just an incremental number in the data) and normalize the data by substracting the min value and dividing by the standard deviation. This ensures that there are no negative values in the normalized data set."
   ]
  },
  {
   "cell_type": "code",
   "execution_count": 196,
   "id": "4bfbaf42",
   "metadata": {},
   "outputs": [
    {
     "data": {
      "text/html": [
       "<div>\n",
       "<style scoped>\n",
       "    .dataframe tbody tr th:only-of-type {\n",
       "        vertical-align: middle;\n",
       "    }\n",
       "\n",
       "    .dataframe tbody tr th {\n",
       "        vertical-align: top;\n",
       "    }\n",
       "\n",
       "    .dataframe thead th {\n",
       "        text-align: right;\n",
       "    }\n",
       "</style>\n",
       "<table border=\"1\" class=\"dataframe\">\n",
       "  <thead>\n",
       "    <tr style=\"text-align: right;\">\n",
       "      <th></th>\n",
       "      <th>date</th>\n",
       "      <th>age</th>\n",
       "      <th>distance</th>\n",
       "      <th>stores</th>\n",
       "      <th>latitude</th>\n",
       "      <th>longitude</th>\n",
       "      <th>price</th>\n",
       "    </tr>\n",
       "  </thead>\n",
       "  <tbody>\n",
       "    <tr>\n",
       "      <th>0</th>\n",
       "      <td>1.649083</td>\n",
       "      <td>1.853562</td>\n",
       "      <td>2.812644</td>\n",
       "      <td>1.909072</td>\n",
       "      <td>1.265026</td>\n",
       "      <td>0.315657</td>\n",
       "      <td>2.939923</td>\n",
       "    </tr>\n",
       "    <tr>\n",
       "      <th>1</th>\n",
       "      <td>1.282620</td>\n",
       "      <td>0.353059</td>\n",
       "      <td>0.625032</td>\n",
       "      <td>0.954536</td>\n",
       "      <td>1.897539</td>\n",
       "      <td>0.315657</td>\n",
       "      <td>0.753349</td>\n",
       "    </tr>\n",
       "    <tr>\n",
       "      <th>2</th>\n",
       "      <td>2.931704</td>\n",
       "      <td>1.588767</td>\n",
       "      <td>0.937548</td>\n",
       "      <td>2.227250</td>\n",
       "      <td>3.162565</td>\n",
       "      <td>0.000000</td>\n",
       "      <td>2.250251</td>\n",
       "    </tr>\n",
       "    <tr>\n",
       "      <th>3</th>\n",
       "      <td>0.366463</td>\n",
       "      <td>1.147443</td>\n",
       "      <td>0.625032</td>\n",
       "      <td>0.636357</td>\n",
       "      <td>0.000000</td>\n",
       "      <td>2.525259</td>\n",
       "      <td>0.750410</td>\n",
       "    </tr>\n",
       "    <tr>\n",
       "      <th>4</th>\n",
       "      <td>2.565241</td>\n",
       "      <td>2.206621</td>\n",
       "      <td>1.562580</td>\n",
       "      <td>2.545429</td>\n",
       "      <td>0.316257</td>\n",
       "      <td>0.631315</td>\n",
       "      <td>2.835101</td>\n",
       "    </tr>\n",
       "  </tbody>\n",
       "</table>\n",
       "</div>"
      ],
      "text/plain": [
       "       date       age  distance    stores  latitude  longitude     price\n",
       "0  1.649083  1.853562  2.812644  1.909072  1.265026   0.315657  2.939923\n",
       "1  1.282620  0.353059  0.625032  0.954536  1.897539   0.315657  0.753349\n",
       "2  2.931704  1.588767  0.937548  2.227250  3.162565   0.000000  2.250251\n",
       "3  0.366463  1.147443  0.625032  0.636357  0.000000   2.525259  0.750410\n",
       "4  2.565241  2.206621  1.562580  2.545429  0.316257   0.631315  2.835101"
      ]
     },
     "execution_count": 196,
     "metadata": {},
     "output_type": "execute_result"
    }
   ],
   "source": [
    "df = df.iloc[:, 1:]\n",
    "# one can also choose to normalize with the mean value instead of min, \n",
    "# however this leads to worse results (higher mean squared error)\n",
    "# df_norm = (df - df.mean())/df.std()\n",
    "df_norm = (df - df.min())/df.std()\n",
    "df_norm.head()"
   ]
  },
  {
   "cell_type": "markdown",
   "id": "02819de7",
   "metadata": {},
   "source": [
    "Create the X dataset by selecting all columns except the price column (which in our case is not a feature, but the value to be predicted in the end)."
   ]
  },
  {
   "cell_type": "code",
   "execution_count": 197,
   "id": "a593eb65",
   "metadata": {},
   "outputs": [],
   "source": [
    "X = df_norm.loc[:, df_norm.columns != 'price']"
   ]
  },
  {
   "cell_type": "code",
   "execution_count": 198,
   "id": "122d16e9",
   "metadata": {},
   "outputs": [
    {
     "data": {
      "text/html": [
       "<div>\n",
       "<style scoped>\n",
       "    .dataframe tbody tr th:only-of-type {\n",
       "        vertical-align: middle;\n",
       "    }\n",
       "\n",
       "    .dataframe tbody tr th {\n",
       "        vertical-align: top;\n",
       "    }\n",
       "\n",
       "    .dataframe thead th {\n",
       "        text-align: right;\n",
       "    }\n",
       "</style>\n",
       "<table border=\"1\" class=\"dataframe\">\n",
       "  <thead>\n",
       "    <tr style=\"text-align: right;\">\n",
       "      <th></th>\n",
       "      <th>date</th>\n",
       "      <th>age</th>\n",
       "      <th>distance</th>\n",
       "      <th>stores</th>\n",
       "      <th>latitude</th>\n",
       "      <th>longitude</th>\n",
       "    </tr>\n",
       "  </thead>\n",
       "  <tbody>\n",
       "    <tr>\n",
       "      <th>0</th>\n",
       "      <td>1.649083</td>\n",
       "      <td>1.853562</td>\n",
       "      <td>2.812644</td>\n",
       "      <td>1.909072</td>\n",
       "      <td>1.265026</td>\n",
       "      <td>0.315657</td>\n",
       "    </tr>\n",
       "    <tr>\n",
       "      <th>1</th>\n",
       "      <td>1.282620</td>\n",
       "      <td>0.353059</td>\n",
       "      <td>0.625032</td>\n",
       "      <td>0.954536</td>\n",
       "      <td>1.897539</td>\n",
       "      <td>0.315657</td>\n",
       "    </tr>\n",
       "    <tr>\n",
       "      <th>2</th>\n",
       "      <td>2.931704</td>\n",
       "      <td>1.588767</td>\n",
       "      <td>0.937548</td>\n",
       "      <td>2.227250</td>\n",
       "      <td>3.162565</td>\n",
       "      <td>0.000000</td>\n",
       "    </tr>\n",
       "    <tr>\n",
       "      <th>3</th>\n",
       "      <td>0.366463</td>\n",
       "      <td>1.147443</td>\n",
       "      <td>0.625032</td>\n",
       "      <td>0.636357</td>\n",
       "      <td>0.000000</td>\n",
       "      <td>2.525259</td>\n",
       "    </tr>\n",
       "    <tr>\n",
       "      <th>4</th>\n",
       "      <td>2.565241</td>\n",
       "      <td>2.206621</td>\n",
       "      <td>1.562580</td>\n",
       "      <td>2.545429</td>\n",
       "      <td>0.316257</td>\n",
       "      <td>0.631315</td>\n",
       "    </tr>\n",
       "  </tbody>\n",
       "</table>\n",
       "</div>"
      ],
      "text/plain": [
       "       date       age  distance    stores  latitude  longitude\n",
       "0  1.649083  1.853562  2.812644  1.909072  1.265026   0.315657\n",
       "1  1.282620  0.353059  0.625032  0.954536  1.897539   0.315657\n",
       "2  2.931704  1.588767  0.937548  2.227250  3.162565   0.000000\n",
       "3  0.366463  1.147443  0.625032  0.636357  0.000000   2.525259\n",
       "4  2.565241  2.206621  1.562580  2.545429  0.316257   0.631315"
      ]
     },
     "execution_count": 198,
     "metadata": {},
     "output_type": "execute_result"
    }
   ],
   "source": [
    "X.head()"
   ]
  },
  {
   "cell_type": "markdown",
   "id": "b5885e86",
   "metadata": {},
   "source": [
    "Create the Y dataset by only selecting the price column."
   ]
  },
  {
   "cell_type": "code",
   "execution_count": 199,
   "id": "41386e22",
   "metadata": {},
   "outputs": [],
   "source": [
    "Y = df_norm.loc[:, df_norm.columns == 'price']"
   ]
  },
  {
   "cell_type": "code",
   "execution_count": 200,
   "id": "edc010ec",
   "metadata": {},
   "outputs": [
    {
     "data": {
      "text/html": [
       "<div>\n",
       "<style scoped>\n",
       "    .dataframe tbody tr th:only-of-type {\n",
       "        vertical-align: middle;\n",
       "    }\n",
       "\n",
       "    .dataframe tbody tr th {\n",
       "        vertical-align: top;\n",
       "    }\n",
       "\n",
       "    .dataframe thead th {\n",
       "        text-align: right;\n",
       "    }\n",
       "</style>\n",
       "<table border=\"1\" class=\"dataframe\">\n",
       "  <thead>\n",
       "    <tr style=\"text-align: right;\">\n",
       "      <th></th>\n",
       "      <th>price</th>\n",
       "    </tr>\n",
       "  </thead>\n",
       "  <tbody>\n",
       "    <tr>\n",
       "      <th>0</th>\n",
       "      <td>2.939923</td>\n",
       "    </tr>\n",
       "    <tr>\n",
       "      <th>1</th>\n",
       "      <td>0.753349</td>\n",
       "    </tr>\n",
       "    <tr>\n",
       "      <th>2</th>\n",
       "      <td>2.250251</td>\n",
       "    </tr>\n",
       "    <tr>\n",
       "      <th>3</th>\n",
       "      <td>0.750410</td>\n",
       "    </tr>\n",
       "    <tr>\n",
       "      <th>4</th>\n",
       "      <td>2.835101</td>\n",
       "    </tr>\n",
       "    <tr>\n",
       "      <th>...</th>\n",
       "      <td>...</td>\n",
       "    </tr>\n",
       "    <tr>\n",
       "      <th>4995</th>\n",
       "      <td>2.229679</td>\n",
       "    </tr>\n",
       "    <tr>\n",
       "      <th>4996</th>\n",
       "      <td>3.422890</td>\n",
       "    </tr>\n",
       "    <tr>\n",
       "      <th>4997</th>\n",
       "      <td>2.781220</td>\n",
       "    </tr>\n",
       "    <tr>\n",
       "      <th>4998</th>\n",
       "      <td>2.987926</td>\n",
       "    </tr>\n",
       "    <tr>\n",
       "      <th>4999</th>\n",
       "      <td>1.476329</td>\n",
       "    </tr>\n",
       "  </tbody>\n",
       "</table>\n",
       "<p>5000 rows × 1 columns</p>\n",
       "</div>"
      ],
      "text/plain": [
       "         price\n",
       "0     2.939923\n",
       "1     0.753349\n",
       "2     2.250251\n",
       "3     0.750410\n",
       "4     2.835101\n",
       "...        ...\n",
       "4995  2.229679\n",
       "4996  3.422890\n",
       "4997  2.781220\n",
       "4998  2.987926\n",
       "4999  1.476329\n",
       "\n",
       "[5000 rows x 1 columns]"
      ]
     },
     "execution_count": 200,
     "metadata": {},
     "output_type": "execute_result"
    }
   ],
   "source": [
    "Y"
   ]
  },
  {
   "cell_type": "markdown",
   "id": "37e64511",
   "metadata": {},
   "source": [
    "Create the training, validation and test dataset. This code splits the input data into groups of 80%, 10% and 10%."
   ]
  },
  {
   "cell_type": "code",
   "execution_count": 201,
   "id": "00b34c10",
   "metadata": {},
   "outputs": [],
   "source": [
    "X_train, X_val_and_test, Y_train, Y_val_and_test = train_test_split(X, Y, test_size=0.2, random_state = 42)\n",
    "X_val, X_test, Y_val, Y_test = train_test_split(X_val_and_test, Y_val_and_test, test_size=0.5, random_state = 42)"
   ]
  },
  {
   "cell_type": "markdown",
   "id": "57bc63e5",
   "metadata": {},
   "source": [
    "Lets show the shapes of the output variables."
   ]
  },
  {
   "cell_type": "code",
   "execution_count": 202,
   "id": "f99f0db5",
   "metadata": {},
   "outputs": [
    {
     "name": "stdout",
     "output_type": "stream",
     "text": [
      "(4000, 6) (500, 6) (500, 6) (4000, 1) (500, 1) (500, 1)\n"
     ]
    }
   ],
   "source": [
    "print(X_train.shape, X_val.shape, X_test.shape, Y_train.shape, Y_val.shape, Y_test.shape)"
   ]
  },
  {
   "cell_type": "markdown",
   "id": "8ec6f874",
   "metadata": {},
   "source": [
    "We build a model with 4 dense layers and a relu activation function (because we normalized in a way to avoid negative values). Suppose we would have chosen to normalize with the mean instead of min and thus keeping negative values in the normalized dataset, we would choose the linear activation function here."
   ]
  },
  {
   "cell_type": "code",
   "execution_count": 203,
   "id": "b4a30168",
   "metadata": {},
   "outputs": [],
   "source": [
    "model = Sequential()\n",
    "model.add(Dense(units=10, activation='relu', input_shape=(6,)))\n",
    "model.add(Dense(units=20, activation='relu'))\n",
    "model.add(Dense(units=5, activation='relu'))\n",
    "model.add(Dense(units=1, activation='relu'))"
   ]
  },
  {
   "cell_type": "markdown",
   "id": "963f122d",
   "metadata": {},
   "source": [
    "Print the model summary."
   ]
  },
  {
   "cell_type": "code",
   "execution_count": 205,
   "id": "1cc098f4",
   "metadata": {},
   "outputs": [
    {
     "name": "stdout",
     "output_type": "stream",
     "text": [
      "Model: \"sequential_25\"\n",
      "_________________________________________________________________\n",
      " Layer (type)                Output Shape              Param #   \n",
      "=================================================================\n",
      " dense_100 (Dense)           (None, 10)                70        \n",
      "                                                                 \n",
      " dense_101 (Dense)           (None, 20)                220       \n",
      "                                                                 \n",
      " dense_102 (Dense)           (None, 5)                 105       \n",
      "                                                                 \n",
      " dense_103 (Dense)           (None, 1)                 6         \n",
      "                                                                 \n",
      "=================================================================\n",
      "Total params: 401\n",
      "Trainable params: 401\n",
      "Non-trainable params: 0\n",
      "_________________________________________________________________\n"
     ]
    }
   ],
   "source": [
    "model.summary()"
   ]
  },
  {
   "cell_type": "markdown",
   "id": "600172e3",
   "metadata": {},
   "source": [
    "Compile the model with mean squared error metric."
   ]
  },
  {
   "cell_type": "code",
   "execution_count": 207,
   "id": "d06025ae",
   "metadata": {},
   "outputs": [],
   "source": [
    "model.compile(loss='mean_squared_error', optimizer='RMSprop', metrics=['mean_squared_error'])"
   ]
  },
  {
   "cell_type": "markdown",
   "id": "c56153fd",
   "metadata": {},
   "source": [
    "Fit and play with epoch size:"
   ]
  },
  {
   "cell_type": "code",
   "execution_count": 208,
   "id": "9e4316f7",
   "metadata": {},
   "outputs": [
    {
     "name": "stdout",
     "output_type": "stream",
     "text": [
      "Epoch 1/50\n",
      "  1/125 [..............................] - ETA: 47s - loss: 6.9357 - mean_squared_error: 6.9357"
     ]
    },
    {
     "name": "stderr",
     "output_type": "stream",
     "text": [
      "2022-10-29 12:10:09.104956: I tensorflow/core/grappler/optimizers/custom_graph_optimizer_registry.cc:114] Plugin optimizer for device_type GPU is enabled.\n"
     ]
    },
    {
     "name": "stdout",
     "output_type": "stream",
     "text": [
      "125/125 [==============================] - 1s 6ms/step - loss: 2.3659 - mean_squared_error: 2.3659 - val_loss: 1.0486 - val_mean_squared_error: 1.0486\n",
      "Epoch 2/50\n",
      " 11/125 [=>............................] - ETA: 0s - loss: 1.0314 - mean_squared_error: 1.0314"
     ]
    },
    {
     "name": "stderr",
     "output_type": "stream",
     "text": [
      "2022-10-29 12:10:09.898061: I tensorflow/core/grappler/optimizers/custom_graph_optimizer_registry.cc:114] Plugin optimizer for device_type GPU is enabled.\n"
     ]
    },
    {
     "name": "stdout",
     "output_type": "stream",
     "text": [
      "125/125 [==============================] - 1s 5ms/step - loss: 0.8222 - mean_squared_error: 0.8222 - val_loss: 0.6926 - val_mean_squared_error: 0.6926\n",
      "Epoch 3/50\n",
      "125/125 [==============================] - 1s 5ms/step - loss: 0.4670 - mean_squared_error: 0.4670 - val_loss: 0.3269 - val_mean_squared_error: 0.3269\n",
      "Epoch 4/50\n",
      "125/125 [==============================] - 1s 5ms/step - loss: 0.2332 - mean_squared_error: 0.2332 - val_loss: 0.1987 - val_mean_squared_error: 0.1987\n",
      "Epoch 5/50\n",
      "125/125 [==============================] - 1s 4ms/step - loss: 0.1820 - mean_squared_error: 0.1820 - val_loss: 0.1853 - val_mean_squared_error: 0.1853\n",
      "Epoch 6/50\n",
      "125/125 [==============================] - 1s 5ms/step - loss: 0.1729 - mean_squared_error: 0.1729 - val_loss: 0.1862 - val_mean_squared_error: 0.1862\n",
      "Epoch 7/50\n",
      "125/125 [==============================] - 1s 4ms/step - loss: 0.1700 - mean_squared_error: 0.1700 - val_loss: 0.1887 - val_mean_squared_error: 0.1887\n",
      "Epoch 8/50\n",
      "125/125 [==============================] - 1s 4ms/step - loss: 0.1687 - mean_squared_error: 0.1687 - val_loss: 0.1854 - val_mean_squared_error: 0.1854\n",
      "Epoch 9/50\n",
      "125/125 [==============================] - 1s 5ms/step - loss: 0.1665 - mean_squared_error: 0.1665 - val_loss: 0.1747 - val_mean_squared_error: 0.1747\n",
      "Epoch 10/50\n",
      "125/125 [==============================] - 1s 5ms/step - loss: 0.1655 - mean_squared_error: 0.1655 - val_loss: 0.1784 - val_mean_squared_error: 0.1784\n",
      "Epoch 11/50\n",
      "125/125 [==============================] - 1s 4ms/step - loss: 0.1648 - mean_squared_error: 0.1648 - val_loss: 0.2016 - val_mean_squared_error: 0.2016\n",
      "Epoch 12/50\n",
      "125/125 [==============================] - 1s 4ms/step - loss: 0.1646 - mean_squared_error: 0.1646 - val_loss: 0.1693 - val_mean_squared_error: 0.1693\n",
      "Epoch 13/50\n",
      "125/125 [==============================] - 1s 5ms/step - loss: 0.1633 - mean_squared_error: 0.1633 - val_loss: 0.1703 - val_mean_squared_error: 0.1703\n",
      "Epoch 14/50\n",
      "125/125 [==============================] - 1s 4ms/step - loss: 0.1627 - mean_squared_error: 0.1627 - val_loss: 0.1910 - val_mean_squared_error: 0.1910\n",
      "Epoch 15/50\n",
      "125/125 [==============================] - 1s 4ms/step - loss: 0.1630 - mean_squared_error: 0.1630 - val_loss: 0.1664 - val_mean_squared_error: 0.1664\n",
      "Epoch 16/50\n",
      "125/125 [==============================] - 1s 5ms/step - loss: 0.1623 - mean_squared_error: 0.1623 - val_loss: 0.1649 - val_mean_squared_error: 0.1649\n",
      "Epoch 17/50\n",
      "125/125 [==============================] - 1s 5ms/step - loss: 0.1617 - mean_squared_error: 0.1617 - val_loss: 0.1711 - val_mean_squared_error: 0.1711\n",
      "Epoch 18/50\n",
      "125/125 [==============================] - 1s 5ms/step - loss: 0.1617 - mean_squared_error: 0.1617 - val_loss: 0.1704 - val_mean_squared_error: 0.1704\n",
      "Epoch 19/50\n",
      "125/125 [==============================] - 1s 4ms/step - loss: 0.1612 - mean_squared_error: 0.1612 - val_loss: 0.1629 - val_mean_squared_error: 0.1629\n",
      "Epoch 20/50\n",
      "125/125 [==============================] - 1s 4ms/step - loss: 0.1602 - mean_squared_error: 0.1602 - val_loss: 0.1635 - val_mean_squared_error: 0.1635\n",
      "Epoch 21/50\n",
      "125/125 [==============================] - 1s 5ms/step - loss: 0.1598 - mean_squared_error: 0.1598 - val_loss: 0.1664 - val_mean_squared_error: 0.1664\n",
      "Epoch 22/50\n",
      "125/125 [==============================] - 1s 4ms/step - loss: 0.1601 - mean_squared_error: 0.1601 - val_loss: 0.1681 - val_mean_squared_error: 0.1681\n",
      "Epoch 23/50\n",
      "125/125 [==============================] - 1s 4ms/step - loss: 0.1585 - mean_squared_error: 0.1585 - val_loss: 0.1630 - val_mean_squared_error: 0.1630\n",
      "Epoch 24/50\n",
      "125/125 [==============================] - 1s 4ms/step - loss: 0.1583 - mean_squared_error: 0.1583 - val_loss: 0.1633 - val_mean_squared_error: 0.1633\n",
      "Epoch 25/50\n",
      "125/125 [==============================] - 1s 4ms/step - loss: 0.1585 - mean_squared_error: 0.1585 - val_loss: 0.1682 - val_mean_squared_error: 0.1682\n",
      "Epoch 26/50\n",
      "125/125 [==============================] - 1s 4ms/step - loss: 0.1579 - mean_squared_error: 0.1579 - val_loss: 0.1618 - val_mean_squared_error: 0.1618\n",
      "Epoch 27/50\n",
      "125/125 [==============================] - 1s 4ms/step - loss: 0.1580 - mean_squared_error: 0.1580 - val_loss: 0.1621 - val_mean_squared_error: 0.1621\n",
      "Epoch 28/50\n",
      "125/125 [==============================] - 1s 5ms/step - loss: 0.1571 - mean_squared_error: 0.1571 - val_loss: 0.1734 - val_mean_squared_error: 0.1734\n",
      "Epoch 29/50\n",
      "125/125 [==============================] - 1s 4ms/step - loss: 0.1577 - mean_squared_error: 0.1577 - val_loss: 0.1607 - val_mean_squared_error: 0.1607\n",
      "Epoch 30/50\n",
      "125/125 [==============================] - 1s 4ms/step - loss: 0.1558 - mean_squared_error: 0.1558 - val_loss: 0.1650 - val_mean_squared_error: 0.1650\n",
      "Epoch 31/50\n",
      "125/125 [==============================] - 1s 4ms/step - loss: 0.1573 - mean_squared_error: 0.1573 - val_loss: 0.1632 - val_mean_squared_error: 0.1632\n",
      "Epoch 32/50\n",
      "125/125 [==============================] - 1s 4ms/step - loss: 0.1565 - mean_squared_error: 0.1565 - val_loss: 0.1646 - val_mean_squared_error: 0.1646\n",
      "Epoch 33/50\n",
      "125/125 [==============================] - 1s 4ms/step - loss: 0.1561 - mean_squared_error: 0.1561 - val_loss: 0.1608 - val_mean_squared_error: 0.1608\n",
      "Epoch 34/50\n",
      "125/125 [==============================] - 1s 4ms/step - loss: 0.1557 - mean_squared_error: 0.1557 - val_loss: 0.1606 - val_mean_squared_error: 0.1606\n",
      "Epoch 35/50\n",
      "125/125 [==============================] - 1s 5ms/step - loss: 0.1566 - mean_squared_error: 0.1566 - val_loss: 0.1618 - val_mean_squared_error: 0.1618\n",
      "Epoch 36/50\n",
      "125/125 [==============================] - 1s 4ms/step - loss: 0.1564 - mean_squared_error: 0.1564 - val_loss: 0.1605 - val_mean_squared_error: 0.1605\n",
      "Epoch 37/50\n",
      "125/125 [==============================] - 1s 4ms/step - loss: 0.1551 - mean_squared_error: 0.1551 - val_loss: 0.1608 - val_mean_squared_error: 0.1608\n",
      "Epoch 38/50\n",
      "125/125 [==============================] - 1s 4ms/step - loss: 0.1555 - mean_squared_error: 0.1555 - val_loss: 0.1592 - val_mean_squared_error: 0.1592\n",
      "Epoch 39/50\n",
      "125/125 [==============================] - 1s 4ms/step - loss: 0.1569 - mean_squared_error: 0.1569 - val_loss: 0.1649 - val_mean_squared_error: 0.1649\n",
      "Epoch 40/50\n",
      "125/125 [==============================] - 1s 4ms/step - loss: 0.1563 - mean_squared_error: 0.1563 - val_loss: 0.1629 - val_mean_squared_error: 0.1629\n",
      "Epoch 41/50\n",
      "125/125 [==============================] - 1s 4ms/step - loss: 0.1557 - mean_squared_error: 0.1557 - val_loss: 0.1596 - val_mean_squared_error: 0.1596\n",
      "Epoch 42/50\n",
      "125/125 [==============================] - 1s 4ms/step - loss: 0.1558 - mean_squared_error: 0.1558 - val_loss: 0.1596 - val_mean_squared_error: 0.1596\n",
      "Epoch 43/50\n",
      "125/125 [==============================] - 1s 5ms/step - loss: 0.1553 - mean_squared_error: 0.1553 - val_loss: 0.1625 - val_mean_squared_error: 0.1625\n",
      "Epoch 44/50\n",
      "125/125 [==============================] - 1s 4ms/step - loss: 0.1549 - mean_squared_error: 0.1549 - val_loss: 0.1593 - val_mean_squared_error: 0.1593\n",
      "Epoch 45/50\n",
      "125/125 [==============================] - 1s 4ms/step - loss: 0.1547 - mean_squared_error: 0.1547 - val_loss: 0.1597 - val_mean_squared_error: 0.1597\n",
      "Epoch 46/50\n",
      "125/125 [==============================] - 1s 4ms/step - loss: 0.1552 - mean_squared_error: 0.1552 - val_loss: 0.1596 - val_mean_squared_error: 0.1596\n",
      "Epoch 47/50\n",
      "125/125 [==============================] - 1s 4ms/step - loss: 0.1543 - mean_squared_error: 0.1543 - val_loss: 0.1592 - val_mean_squared_error: 0.1592\n",
      "Epoch 48/50\n",
      "125/125 [==============================] - 1s 4ms/step - loss: 0.1554 - mean_squared_error: 0.1554 - val_loss: 0.1602 - val_mean_squared_error: 0.1602\n",
      "Epoch 49/50\n",
      "125/125 [==============================] - 1s 4ms/step - loss: 0.1554 - mean_squared_error: 0.1554 - val_loss: 0.1603 - val_mean_squared_error: 0.1603\n",
      "Epoch 50/50\n",
      "125/125 [==============================] - 1s 5ms/step - loss: 0.1551 - mean_squared_error: 0.1551 - val_loss: 0.1615 - val_mean_squared_error: 0.1615\n"
     ]
    },
    {
     "data": {
      "text/plain": [
       "<keras.callbacks.History at 0x2f992b190>"
      ]
     },
     "execution_count": 208,
     "metadata": {},
     "output_type": "execute_result"
    }
   ],
   "source": [
    "model.fit(X_train, Y_train, epochs=50, validation_data=(X_val, Y_val))"
   ]
  },
  {
   "cell_type": "markdown",
   "id": "111ff24d",
   "metadata": {},
   "source": [
    "Evaluate the model performance:"
   ]
  },
  {
   "cell_type": "code",
   "execution_count": 209,
   "id": "d37d0dbf",
   "metadata": {},
   "outputs": [
    {
     "name": "stdout",
     "output_type": "stream",
     "text": [
      "16/16 [==============================] - 0s 3ms/step - loss: 0.1539 - mean_squared_error: 0.1539\n"
     ]
    },
    {
     "data": {
      "text/plain": [
       "[0.15392450988292694, 0.15392450988292694]"
      ]
     },
     "execution_count": 209,
     "metadata": {},
     "output_type": "execute_result"
    }
   ],
   "source": [
    "model.evaluate(X_test, Y_test)"
   ]
  },
  {
   "cell_type": "markdown",
   "id": "181ead6c",
   "metadata": {},
   "source": [
    "## Conclusion\n",
    "\n",
    "### Important Ideas\n",
    "\n",
    "   * Normalization has to always happen on all the data!\n",
    "      - substracting min() and dividing with std() avoids negative values in the output\n",
    "      - substracting mean() and dividing with std() normalizes with keeping negative values in the output\n",
    "   * Play with the number of epochs\n",
    "   * Play with the different activation functions (in output and hidden layer!)\n",
    "      - regression: with only positive numbers - use \"relu\"\n",
    "      - regression: with negative and positive numbers - use \"linear\"\n",
    "      - classification: use sigmoid"
   ]
  }
 ],
 "metadata": {
  "kernelspec": {
   "display_name": "pva3",
   "language": "python",
   "name": "pva3"
  },
  "language_info": {
   "codemirror_mode": {
    "name": "ipython",
    "version": 3
   },
   "file_extension": ".py",
   "mimetype": "text/x-python",
   "name": "python",
   "nbconvert_exporter": "python",
   "pygments_lexer": "ipython3",
   "version": "3.10.6"
  }
 },
 "nbformat": 4,
 "nbformat_minor": 5
}
